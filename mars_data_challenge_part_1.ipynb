{
 "cells": [
  {
   "cell_type": "code",
   "execution_count": 1,
   "id": "3fcbb668",
   "metadata": {},
   "outputs": [],
   "source": [
    "from splinter import Browser\n",
    "from bs4 import BeautifulSoup as soup\n",
    "from webdriver_manager.chrome import ChromeDriverManager\n",
    "import pandas as pd\n",
    "import json"
   ]
  },
  {
   "cell_type": "code",
   "execution_count": 2,
   "id": "d676a989",
   "metadata": {},
   "outputs": [
    {
     "name": "stderr",
     "output_type": "stream",
     "text": [
      "[WDM] - Downloading: 100%|█████████████████| 8.41M/8.41M [00:01<00:00, 8.60MB/s]\n"
     ]
    }
   ],
   "source": [
    "executable_path = {'executable_path': ChromeDriverManager().install()}\n",
    "browser = Browser('chrome', **executable_path, headless=False)"
   ]
  },
  {
   "cell_type": "code",
   "execution_count": 3,
   "id": "3a714e77",
   "metadata": {},
   "outputs": [
    {
     "data": {
      "text/plain": [
       "True"
      ]
     },
     "execution_count": 3,
     "metadata": {},
     "output_type": "execute_result"
    }
   ],
   "source": [
    "# Visit the Mars NASA news site\n",
    "url = 'https://redplanetscience.com'\n",
    "browser.visit(url)\n",
    "# Optional delay for loading the page\n",
    "browser.is_element_present_by_css('div.list_text', wait_time=1)"
   ]
  },
  {
   "cell_type": "code",
   "execution_count": 4,
   "id": "7b7babd7",
   "metadata": {},
   "outputs": [],
   "source": [
    "html = browser.html\n",
    "news_soup = soup(html, 'html.parser')"
   ]
  },
  {
   "cell_type": "code",
   "execution_count": 5,
   "id": "60623bd3",
   "metadata": {},
   "outputs": [],
   "source": [
    "news=news_soup.find_all('div',class_=\"list_text\")"
   ]
  },
  {
   "cell_type": "code",
   "execution_count": 6,
   "id": "28834b51",
   "metadata": {},
   "outputs": [],
   "source": [
    "news_list=[]\n",
    "for row in news:\n",
    "    mars_news = {\"title\":\"\",\"preview\":\"\"}\n",
    "    row_heading = row.find('div', class_='content_title').text\n",
    "    row_data = row.find('div', class_='article_teaser_body').text\n",
    "    mars_news['title'] = row_heading\n",
    "    mars_news['preview']=row_data\n",
    "    news_list.append(mars_news)"
   ]
  },
  {
   "cell_type": "code",
   "execution_count": 7,
   "id": "31501676",
   "metadata": {},
   "outputs": [
    {
     "data": {
      "text/plain": [
       "{'title': 'Independent Review Indicates NASA Prepared for Mars Sample Return Campaign',\n",
       " 'preview': 'NASA released an independent review report Tuesday indicating the agency is well positioned for its Mars Sample Return campaign to bring pristine samples from Mars to Earth for scientific study.'}"
      ]
     },
     "execution_count": 7,
     "metadata": {},
     "output_type": "execute_result"
    }
   ],
   "source": [
    "mars_news"
   ]
  },
  {
   "cell_type": "code",
   "execution_count": 8,
   "id": "4585017a",
   "metadata": {
    "scrolled": true
   },
   "outputs": [
    {
     "data": {
      "text/plain": [
       "[{'title': \"5 Hidden Gems Are Riding Aboard NASA's Perseverance Rover\",\n",
       "  'preview': \"The symbols, mottos, and small objects added to the agency's newest Mars rover serve a variety of purposes, from functional to decorative.\"},\n",
       " {'title': \"NASA's InSight Flexes Its Arm While Its 'Mole' Hits Pause\",\n",
       "  'preview': \"Now that the lander's robotic arm has helped the mole get underground, it will resume science activities that have been on hold.\"},\n",
       " {'title': \"NASA's Perseverance Rover Will Carry First Spacesuit Materials to Mars\",\n",
       "  'preview': 'In a Q&A, spacesuit designer Amy Ross explains how five samples, including a piece of helmet visor, will be tested aboard the rover, which is targeting a July 30 launch. '},\n",
       " {'title': \"8 Martian Postcards to Celebrate Curiosity's Landing Anniversary\",\n",
       "  'preview': 'The NASA rover touched down eight years ago, on Aug. 5, 2012, and will soon be joined by a second rover, Perseverance.'},\n",
       " {'title': \"NASA's Curiosity Mars Rover Takes a New Selfie Before Record Climb\",\n",
       "  'preview': 'Along with capturing an image before its steepest ascent ever, the robotic explorer filmed its \"selfie stick,\" or robotic arm, in action.'},\n",
       " {'title': 'New Selfie Shows Curiosity, the Mars Chemist',\n",
       "  'preview': 'The NASA rover performed a special chemistry experiment at the location captured in its newest self-portrait.'},\n",
       " {'title': \"NASA's Mars 2020 Comes Full Circle\",\n",
       "  'preview': \"Aiming to pinpoint the Martian vehicle's center of gravity, engineers took NASA's 2,300-pound Mars 2020 rover for a spin in the clean room at JPL. \"},\n",
       " {'title': \"The Extraordinary Sample-Gathering System of NASA's Perseverance Mars Rover\",\n",
       "  'preview': 'Two astronauts collected Moon rocks on Apollo 11. It will take three robotic systems working together to gather up the first Mars rock samples for return to Earth.'},\n",
       " {'title': \"NASA's Mars Perseverance Rover Gets Its Sample Handling System\",\n",
       "  'preview': 'The system will be collecting and storing Martian rock and soil. Its installation marks another milestone in the march toward the July launch period.'},\n",
       " {'title': 'Naming a NASA Mars Rover Can Change Your Life',\n",
       "  'preview': 'Want to name the robotic scientist NASA is sending to Mars in 2020? The student who named Curiosity — the rover currently exploring Mars — will tell you this is an opportunity worth taking.'},\n",
       " {'title': 'NASA Wins Two Emmy Awards for Interactive Mission Coverage',\n",
       "  'preview': \"NASA-JPL's coverage of the Mars InSight landing earns one of the two wins, making this the NASA center's second Emmy.\"},\n",
       " {'title': \"Nine Finalists Chosen in NASA's Mars 2020 Rover Naming Contest\",\n",
       "  'preview': \"Nine finalists have been chosen in the essay contest for K-12 students across U.S. to name NASA's next Mars rover. Now you can help by voting for your favorite. \"},\n",
       " {'title': \"10.9 Million Names Now Aboard NASA's Perseverance Mars Rover\",\n",
       "  'preview': \"As part of NASA's 'Send Your Name to Mars' campaign, they've been stenciled onto three microchips along with essays from NASA's 'Name the Rover' contest. Next stop: Mars.\"},\n",
       " {'title': \"NASA's Perseverance Mars Rover Gets Balanced\",\n",
       "  'preview': \"The mission team performed a crucial weight-balancing test on the rover in preparation for this summer's history-making launch to the Red Planet.\"},\n",
       " {'title': 'Independent Review Indicates NASA Prepared for Mars Sample Return Campaign',\n",
       "  'preview': 'NASA released an independent review report Tuesday indicating the agency is well positioned for its Mars Sample Return campaign to bring pristine samples from Mars to Earth for scientific study.'}]"
      ]
     },
     "execution_count": 8,
     "metadata": {},
     "output_type": "execute_result"
    }
   ],
   "source": [
    "news_list"
   ]
  },
  {
   "cell_type": "code",
   "execution_count": 9,
   "id": "2f2a19fb",
   "metadata": {},
   "outputs": [],
   "source": [
    "jsonString = json.dumps(news_list)\n",
    "jsonFile = open(\"news_data.json\", \"w\")\n",
    "jsonFile.write(jsonString)\n",
    "jsonFile.close()"
   ]
  },
  {
   "cell_type": "code",
   "execution_count": 10,
   "id": "28d6d9b4",
   "metadata": {},
   "outputs": [],
   "source": [
    "news_df=pd.DataFrame(news_list)"
   ]
  },
  {
   "cell_type": "code",
   "execution_count": 11,
   "id": "7f437319",
   "metadata": {},
   "outputs": [
    {
     "data": {
      "text/html": [
       "<div>\n",
       "<style scoped>\n",
       "    .dataframe tbody tr th:only-of-type {\n",
       "        vertical-align: middle;\n",
       "    }\n",
       "\n",
       "    .dataframe tbody tr th {\n",
       "        vertical-align: top;\n",
       "    }\n",
       "\n",
       "    .dataframe thead th {\n",
       "        text-align: right;\n",
       "    }\n",
       "</style>\n",
       "<table border=\"1\" class=\"dataframe\">\n",
       "  <thead>\n",
       "    <tr style=\"text-align: right;\">\n",
       "      <th></th>\n",
       "      <th>title</th>\n",
       "      <th>preview</th>\n",
       "    </tr>\n",
       "  </thead>\n",
       "  <tbody>\n",
       "    <tr>\n",
       "      <th>0</th>\n",
       "      <td>5 Hidden Gems Are Riding Aboard NASA's Perseve...</td>\n",
       "      <td>The symbols, mottos, and small objects added t...</td>\n",
       "    </tr>\n",
       "    <tr>\n",
       "      <th>1</th>\n",
       "      <td>NASA's InSight Flexes Its Arm While Its 'Mole'...</td>\n",
       "      <td>Now that the lander's robotic arm has helped t...</td>\n",
       "    </tr>\n",
       "    <tr>\n",
       "      <th>2</th>\n",
       "      <td>NASA's Perseverance Rover Will Carry First Spa...</td>\n",
       "      <td>In a Q&amp;A, spacesuit designer Amy Ross explains...</td>\n",
       "    </tr>\n",
       "    <tr>\n",
       "      <th>3</th>\n",
       "      <td>8 Martian Postcards to Celebrate Curiosity's L...</td>\n",
       "      <td>The NASA rover touched down eight years ago, o...</td>\n",
       "    </tr>\n",
       "    <tr>\n",
       "      <th>4</th>\n",
       "      <td>NASA's Curiosity Mars Rover Takes a New Selfie...</td>\n",
       "      <td>Along with capturing an image before its steep...</td>\n",
       "    </tr>\n",
       "    <tr>\n",
       "      <th>5</th>\n",
       "      <td>New Selfie Shows Curiosity, the Mars Chemist</td>\n",
       "      <td>The NASA rover performed a special chemistry e...</td>\n",
       "    </tr>\n",
       "    <tr>\n",
       "      <th>6</th>\n",
       "      <td>NASA's Mars 2020 Comes Full Circle</td>\n",
       "      <td>Aiming to pinpoint the Martian vehicle's cente...</td>\n",
       "    </tr>\n",
       "    <tr>\n",
       "      <th>7</th>\n",
       "      <td>The Extraordinary Sample-Gathering System of N...</td>\n",
       "      <td>Two astronauts collected Moon rocks on Apollo ...</td>\n",
       "    </tr>\n",
       "    <tr>\n",
       "      <th>8</th>\n",
       "      <td>NASA's Mars Perseverance Rover Gets Its Sample...</td>\n",
       "      <td>The system will be collecting and storing Mart...</td>\n",
       "    </tr>\n",
       "    <tr>\n",
       "      <th>9</th>\n",
       "      <td>Naming a NASA Mars Rover Can Change Your Life</td>\n",
       "      <td>Want to name the robotic scientist NASA is sen...</td>\n",
       "    </tr>\n",
       "    <tr>\n",
       "      <th>10</th>\n",
       "      <td>NASA Wins Two Emmy Awards for Interactive Miss...</td>\n",
       "      <td>NASA-JPL's coverage of the Mars InSight landin...</td>\n",
       "    </tr>\n",
       "    <tr>\n",
       "      <th>11</th>\n",
       "      <td>Nine Finalists Chosen in NASA's Mars 2020 Rove...</td>\n",
       "      <td>Nine finalists have been chosen in the essay c...</td>\n",
       "    </tr>\n",
       "    <tr>\n",
       "      <th>12</th>\n",
       "      <td>10.9 Million Names Now Aboard NASA's Persevera...</td>\n",
       "      <td>As part of NASA's 'Send Your Name to Mars' cam...</td>\n",
       "    </tr>\n",
       "    <tr>\n",
       "      <th>13</th>\n",
       "      <td>NASA's Perseverance Mars Rover Gets Balanced</td>\n",
       "      <td>The mission team performed a crucial weight-ba...</td>\n",
       "    </tr>\n",
       "    <tr>\n",
       "      <th>14</th>\n",
       "      <td>Independent Review Indicates NASA Prepared for...</td>\n",
       "      <td>NASA released an independent review report Tue...</td>\n",
       "    </tr>\n",
       "  </tbody>\n",
       "</table>\n",
       "</div>"
      ],
      "text/plain": [
       "                                                title  \\\n",
       "0   5 Hidden Gems Are Riding Aboard NASA's Perseve...   \n",
       "1   NASA's InSight Flexes Its Arm While Its 'Mole'...   \n",
       "2   NASA's Perseverance Rover Will Carry First Spa...   \n",
       "3   8 Martian Postcards to Celebrate Curiosity's L...   \n",
       "4   NASA's Curiosity Mars Rover Takes a New Selfie...   \n",
       "5        New Selfie Shows Curiosity, the Mars Chemist   \n",
       "6                  NASA's Mars 2020 Comes Full Circle   \n",
       "7   The Extraordinary Sample-Gathering System of N...   \n",
       "8   NASA's Mars Perseverance Rover Gets Its Sample...   \n",
       "9       Naming a NASA Mars Rover Can Change Your Life   \n",
       "10  NASA Wins Two Emmy Awards for Interactive Miss...   \n",
       "11  Nine Finalists Chosen in NASA's Mars 2020 Rove...   \n",
       "12  10.9 Million Names Now Aboard NASA's Persevera...   \n",
       "13       NASA's Perseverance Mars Rover Gets Balanced   \n",
       "14  Independent Review Indicates NASA Prepared for...   \n",
       "\n",
       "                                              preview  \n",
       "0   The symbols, mottos, and small objects added t...  \n",
       "1   Now that the lander's robotic arm has helped t...  \n",
       "2   In a Q&A, spacesuit designer Amy Ross explains...  \n",
       "3   The NASA rover touched down eight years ago, o...  \n",
       "4   Along with capturing an image before its steep...  \n",
       "5   The NASA rover performed a special chemistry e...  \n",
       "6   Aiming to pinpoint the Martian vehicle's cente...  \n",
       "7   Two astronauts collected Moon rocks on Apollo ...  \n",
       "8   The system will be collecting and storing Mart...  \n",
       "9   Want to name the robotic scientist NASA is sen...  \n",
       "10  NASA-JPL's coverage of the Mars InSight landin...  \n",
       "11  Nine finalists have been chosen in the essay c...  \n",
       "12  As part of NASA's 'Send Your Name to Mars' cam...  \n",
       "13  The mission team performed a crucial weight-ba...  \n",
       "14  NASA released an independent review report Tue...  "
      ]
     },
     "execution_count": 11,
     "metadata": {},
     "output_type": "execute_result"
    }
   ],
   "source": [
    "news_df"
   ]
  },
  {
   "cell_type": "code",
   "execution_count": null,
   "id": "ab0e6f6f",
   "metadata": {},
   "outputs": [],
   "source": []
  }
 ],
 "metadata": {
  "kernelspec": {
   "display_name": "PythonData",
   "language": "python",
   "name": "pythondata"
  },
  "language_info": {
   "codemirror_mode": {
    "name": "ipython",
    "version": 3
   },
   "file_extension": ".py",
   "mimetype": "text/x-python",
   "name": "python",
   "nbconvert_exporter": "python",
   "pygments_lexer": "ipython3",
   "version": "3.9.12"
  }
 },
 "nbformat": 4,
 "nbformat_minor": 5
}
